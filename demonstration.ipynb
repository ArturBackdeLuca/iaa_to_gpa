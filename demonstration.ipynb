{
 "cells": [
  {
   "cell_type": "code",
   "execution_count": 1,
   "metadata": {},
   "outputs": [],
   "source": [
    "from score_converter import GPAConverter"
   ]
  },
  {
   "cell_type": "markdown",
   "metadata": {},
   "source": [
    "<h3>Instantiate and log-in</h3>"
   ]
  },
  {
   "cell_type": "code",
   "execution_count": 4,
   "metadata": {},
   "outputs": [
    {
     "name": "stdout",
     "output_type": "stream",
     "text": [
      "Username: 13200519\n",
      "Password: ········\n"
     ]
    }
   ],
   "source": [
    "user = GPAConverter()"
   ]
  },
  {
   "cell_type": "markdown",
   "metadata": {},
   "source": [
    "<h3>Calculate Decimal graded average (IAA)</h3>"
   ]
  },
  {
   "cell_type": "code",
   "execution_count": 5,
   "metadata": {},
   "outputs": [
    {
     "name": "stderr",
     "output_type": "stream",
     "text": [
      "/home/artur/Desktop/DS/iaa_to_gpa/score_converter.py:192: Warning: get_grade_records was not previously executed\n",
      "  warnings.warn('get_grade_records was not previously executed', Warning)\n"
     ]
    },
    {
     "name": "stdout",
     "output_type": "stream",
     "text": [
      "IAA: 8.67\n"
     ]
    },
    {
     "name": "stderr",
     "output_type": "stream",
     "text": [
      "/home/artur/Desktop/DS/iaa_to_gpa/score_converter.py:162: Warning: Empty credit points subject\n",
      "  warnings.warn('Empty credit points subject', Warning)\n"
     ]
    }
   ],
   "source": [
    "user.get_iaa()"
   ]
  },
  {
   "cell_type": "markdown",
   "metadata": {},
   "source": [
    "<h3>Get transcript of records</h3>"
   ]
  },
  {
   "cell_type": "code",
   "execution_count": 6,
   "metadata": {},
   "outputs": [
    {
     "name": "stderr",
     "output_type": "stream",
     "text": [
      "/home/artur/Desktop/DS/iaa_to_gpa/score_converter.py:162: Warning: Empty credit points subject\n",
      "  warnings.warn('Empty credit points subject', Warning)\n"
     ]
    },
    {
     "data": {
      "text/html": [
       "<div>\n",
       "<style scoped>\n",
       "    .dataframe tbody tr th:only-of-type {\n",
       "        vertical-align: middle;\n",
       "    }\n",
       "\n",
       "    .dataframe tbody tr th {\n",
       "        vertical-align: top;\n",
       "    }\n",
       "\n",
       "    .dataframe thead th {\n",
       "        text-align: right;\n",
       "    }\n",
       "</style>\n",
       "<table border=\"1\" class=\"dataframe\">\n",
       "  <thead>\n",
       "    <tr style=\"text-align: right;\">\n",
       "      <th></th>\n",
       "      <th>code</th>\n",
       "      <th>credits</th>\n",
       "      <th>grade</th>\n",
       "      <th>subject</th>\n",
       "    </tr>\n",
       "  </thead>\n",
       "  <tbody>\n",
       "    <tr>\n",
       "      <th>55</th>\n",
       "      <td>EMC5006</td>\n",
       "      <td>4.0</td>\n",
       "      <td>9.0</td>\n",
       "      <td>Eletrônica</td>\n",
       "    </tr>\n",
       "    <tr>\n",
       "      <th>56</th>\n",
       "      <td>EMC5341</td>\n",
       "      <td>3.0</td>\n",
       "      <td>9.0</td>\n",
       "      <td>Otimização</td>\n",
       "    </tr>\n",
       "    <tr>\n",
       "      <th>57</th>\n",
       "      <td>EPS7005</td>\n",
       "      <td>4.0</td>\n",
       "      <td>9.0</td>\n",
       "      <td>Pesquisa Operacional</td>\n",
       "    </tr>\n",
       "    <tr>\n",
       "      <th>58</th>\n",
       "      <td>EPS7013</td>\n",
       "      <td>3.0</td>\n",
       "      <td>9.5</td>\n",
       "      <td>Empreendedorismo</td>\n",
       "    </tr>\n",
       "    <tr>\n",
       "      <th>59</th>\n",
       "      <td>PSI5910</td>\n",
       "      <td>2.0</td>\n",
       "      <td>10.0</td>\n",
       "      <td>Temas em psicologia: Orientação e Planejamento...</td>\n",
       "    </tr>\n",
       "  </tbody>\n",
       "</table>\n",
       "</div>"
      ],
      "text/plain": [
       "       code  credits  grade                                            subject\n",
       "55  EMC5006      4.0    9.0                                         Eletrônica\n",
       "56  EMC5341      3.0    9.0                                         Otimização\n",
       "57  EPS7005      4.0    9.0                               Pesquisa Operacional\n",
       "58  EPS7013      3.0    9.5                                   Empreendedorismo\n",
       "59  PSI5910      2.0   10.0  Temas em psicologia: Orientação e Planejamento..."
      ]
     },
     "execution_count": 6,
     "metadata": {},
     "output_type": "execute_result"
    }
   ],
   "source": [
    "df = user.get_grade_records()\n",
    "df.tail()"
   ]
  },
  {
   "cell_type": "markdown",
   "metadata": {},
   "source": [
    "### Simulate IAA"
   ]
  },
  {
   "cell_type": "code",
   "execution_count": 7,
   "metadata": {},
   "outputs": [
    {
     "name": "stdout",
     "output_type": "stream",
     "text": [
      "Simulated\n",
      "IAA: 8.76\n"
     ]
    }
   ],
   "source": [
    "simulate = [\n",
    "    {'code':'AAAAA', 'subject':'Subject A', 'credits':4, 'grade':10},\n",
    "    {'code':'BBBBB', 'subject':'Subject B' ,'credits':3, 'grade':10},\n",
    "    {'code':'CCCCC', 'subject':'Subject C','credits':3, 'grade':10},\n",
    "    {'code':'DDDDD', 'subject':'Subject D','credits':2, 'grade':10},\n",
    "    {'code':'EEEEE', 'subject':'Subject E','credits':5, 'grade':10}\n",
    "]\n",
    "print('Simulated')\n",
    "user.get_iaa(transcript=df.append(simulate))"
   ]
  },
  {
   "cell_type": "markdown",
   "metadata": {},
   "source": [
    "<h3>Calculate GPA</h3>"
   ]
  },
  {
   "cell_type": "code",
   "execution_count": 8,
   "metadata": {},
   "outputs": [
    {
     "name": "stdout",
     "output_type": "stream",
     "text": [
      "GPA: 3.40\n"
     ]
    }
   ],
   "source": [
    "user.get_gpa()"
   ]
  },
  {
   "cell_type": "markdown",
   "metadata": {},
   "source": [
    "<h3>Use different scales for GPA</h3>"
   ]
  },
  {
   "cell_type": "code",
   "execution_count": 13,
   "metadata": {},
   "outputs": [
    {
     "name": "stdout",
     "output_type": "stream",
     "text": [
      "GPA: 3.22\n"
     ]
    }
   ],
   "source": [
    "user.get_gpa(scale_id=2)"
   ]
  },
  {
   "cell_type": "markdown",
   "metadata": {},
   "source": [
    "<h3>Simulate GPA</h3>"
   ]
  },
  {
   "cell_type": "code",
   "execution_count": 9,
   "metadata": {},
   "outputs": [
    {
     "name": "stdout",
     "output_type": "stream",
     "text": [
      "Simulated\n",
      "GPA: 3.44\n"
     ]
    }
   ],
   "source": [
    "print('Simulated')\n",
    "user.get_gpa(transcript=df.append(simulate))"
   ]
  },
  {
   "cell_type": "markdown",
   "metadata": {},
   "source": [
    "<h3>Export transcript with GPA and translated subject names to a Excel spreadsheet</h3>"
   ]
  },
  {
   "cell_type": "code",
   "execution_count": 16,
   "metadata": {},
   "outputs": [
    {
     "name": "stdout",
     "output_type": "stream",
     "text": [
      "file saved as ./exported_translated_transcript.xlsx\n"
     ]
    }
   ],
   "source": [
    "user.export_translated_transcript(scale_id=1)"
   ]
  },
  {
   "cell_type": "code",
   "execution_count": 22,
   "metadata": {},
   "outputs": [
    {
     "data": {
      "text/html": [
       "<div>\n",
       "<style scoped>\n",
       "    .dataframe tbody tr th:only-of-type {\n",
       "        vertical-align: middle;\n",
       "    }\n",
       "\n",
       "    .dataframe tbody tr th {\n",
       "        vertical-align: top;\n",
       "    }\n",
       "\n",
       "    .dataframe thead th {\n",
       "        text-align: right;\n",
       "    }\n",
       "</style>\n",
       "<table border=\"1\" class=\"dataframe\">\n",
       "  <thead>\n",
       "    <tr style=\"text-align: right;\">\n",
       "      <th></th>\n",
       "      <th>code</th>\n",
       "      <th>credits</th>\n",
       "      <th>grade</th>\n",
       "      <th>gpa</th>\n",
       "      <th>subject</th>\n",
       "      <th>translated</th>\n",
       "    </tr>\n",
       "  </thead>\n",
       "  <tbody>\n",
       "    <tr>\n",
       "      <th>51</th>\n",
       "      <td>EMC5522</td>\n",
       "      <td>29</td>\n",
       "      <td>10.0</td>\n",
       "      <td>4</td>\n",
       "      <td>Estágio Profissional em Engenharia Mecânica</td>\n",
       "      <td>Professional Probatory Period</td>\n",
       "    </tr>\n",
       "  </tbody>\n",
       "</table>\n",
       "</div>"
      ],
      "text/plain": [
       "       code  credits  grade  gpa                                      subject  \\\n",
       "51  EMC5522       29   10.0    4  Estágio Profissional em Engenharia Mecânica   \n",
       "\n",
       "                       translated  \n",
       "51  Professional Probatory Period  "
      ]
     },
     "execution_count": 22,
     "metadata": {},
     "output_type": "execute_result"
    }
   ],
   "source": [
    "import pandas as pd\n",
    "pd.read_excel('./exported_translated_transcript.xlsx').sample()"
   ]
  }
 ],
 "metadata": {
  "kernelspec": {
   "display_name": "Python 3",
   "language": "python",
   "name": "python3"
  },
  "language_info": {
   "codemirror_mode": {
    "name": "ipython",
    "version": 3
   },
   "file_extension": ".py",
   "mimetype": "text/x-python",
   "name": "python",
   "nbconvert_exporter": "python",
   "pygments_lexer": "ipython3",
   "version": "3.6.5"
  }
 },
 "nbformat": 4,
 "nbformat_minor": 2
}
