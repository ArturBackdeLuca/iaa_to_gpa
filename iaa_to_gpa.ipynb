{
 "cells": [
  {
   "cell_type": "code",
   "execution_count": 1,
   "metadata": {
    "collapsed": false
   },
   "outputs": [],
   "source": [
    "import pandas as pd\n",
    "from bs4 import BeautifulSoup\n",
    "import requests\n",
    "import getpass\n",
    "import warnings"
   ]
  },
  {
   "cell_type": "code",
   "execution_count": 56,
   "metadata": {
    "collapsed": false
   },
   "outputs": [
    {
     "name": "stdout",
     "output_type": "stream",
     "text": [
      "Matrícula: 13200519\n",
      "Password: ········\n"
     ]
    }
   ],
   "source": [
    "login_url = 'https://sistemas.ufsc.br/login?service=https%3A%2F%2Fcagr.sistemas.ufsc.br%2Fj_spring_cas_security_check&userType=padrao&convertToUserType=alunoGraduacao&lockUserType=1'\n",
    "payload = {\n",
    "    'username': input('Matrícula: '),\n",
    "    'password': getpass.getpass('Password: '),\n",
    "    'admin': 0,\n",
    "    'execution': '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',\n",
    "    '_eventId': 'submit'\n",
    "\n",
    "}\n",
    "sess = requests.session()\n",
    "sess.post(login_url, data=payload)\n",
    "url = 'https://cagr.sistemas.ufsc.br/modules/aluno/historicoEscolar/'\n",
    "soup = BeautifulSoup(sess.get(url).content, 'lxml')\n",
    "subjects_obj = soup.find_all('tr', attrs={'class': 'rich-table-row'})\n",
    "del payload"
   ]
  },
  {
   "cell_type": "code",
   "execution_count": 115,
   "metadata": {
    "collapsed": false
   },
   "outputs": [
    {
     "name": "stderr",
     "output_type": "stream",
     "text": [
      "C:\\Users\\Artur\\Anaconda3\\lib\\site-packages\\ipykernel\\__main__.py:8: Warning: Probable empty credit points subject\n"
     ]
    }
   ],
   "source": [
    "subjects = list()\n",
    "for i in subjects_obj:\n",
    "    subject = list(i)\n",
    "    try:\n",
    "        credits = int(subject[2].contents[0])/18\n",
    "        grade = float(subject[3].contents[0])\n",
    "    except IndexError:\n",
    "        warnings.warn('Probable empty credit points subject', Warning)\n",
    "        continue\n",
    "    except ValueError:\n",
    "        warnings.warn('Probable I concept subject', Warning)\n",
    "        continue\n",
    "    subjects.append({\n",
    "        'code': subject[0].contents[0],\n",
    "        'subject': subject[1].contents[0],\n",
    "        'credits': credits,\n",
    "        'grade': grade,\n",
    "})"
   ]
  },
  {
   "cell_type": "code",
   "execution_count": 98,
   "metadata": {
    "collapsed": false
   },
   "outputs": [
    {
     "name": "stdout",
     "output_type": "stream",
     "text": [
      "IAA: 8.63\n"
     ]
    }
   ],
   "source": [
    "df = pd.DataFrame(subjects)\n",
    "print('IAA: %.2f'%(sum(df.credits*df.grade)/sum(df.credits)))"
   ]
  },
  {
   "cell_type": "code",
   "execution_count": 99,
   "metadata": {
    "collapsed": false
   },
   "outputs": [
    {
     "name": "stdout",
     "output_type": "stream",
     "text": [
      "Simulated IAA: 8.72\n"
     ]
    }
   ],
   "source": [
    "simulate = [\n",
    "    {'code':'EMC5006', 'subject':'Eletrônica', 'credits':4, 'grade':10},\n",
    "    {'code':'EMC5341', 'subject':'Otimização' ,'credits':3, 'grade':10},\n",
    "    {'code':'EPS7005', 'subject':'Pesquisa Operacional','credits':4, 'grade':10},\n",
    "    {'code':'EPS7013', 'subject':'Empreendedorismo','credits':3, 'grade':10},\n",
    "    {'code':'PSI5910', 'subject':'Temas em psicologia: Orientação e Planejamento de Carreira','credits':2, 'grade':10}\n",
    "]\n",
    "print('Simulated IAA: %.2f'%(sum(df.append(simulate).credits*df.append(simulate).grade)/sum(df.append(simulate).credits)))"
   ]
  },
  {
   "cell_type": "markdown",
   "metadata": {},
   "source": [
    "<h3>Calculate GPA</h3>"
   ]
  },
  {
   "cell_type": "code",
   "execution_count": 117,
   "metadata": {
    "collapsed": false
   },
   "outputs": [],
   "source": [
    "conversion = pd.DataFrame(\n",
    "    [   \n",
    "        {'decimal': 9.6, 'grade':4.0},\n",
    "        {'decimal': 9.5, 'grade':3.9},\n",
    "        {'decimal': 9.3, 'grade':3.8},\n",
    "        {'decimal': 9.1, 'grade':3.7},\n",
    "        {'decimal': 9.0, 'grade':3.6},\n",
    "        {'decimal': 8.8, 'grade':3.5},\n",
    "        {'decimal': 8.7, 'grade':3.4},\n",
    "        {'decimal': 8.5, 'grade':3.3},\n",
    "        {'decimal': 8.4, 'grade':3.2},\n",
    "        {'decimal': 8.2, 'grade':3.1},\n",
    "        {'decimal': 8.0, 'grade':3.0},\n",
    "        {'decimal': 7.9, 'grade':2.9},\n",
    "        {'decimal': 7.8, 'grade':2.8},\n",
    "        {'decimal': 7.7, 'grade':2.7},\n",
    "        {'decimal': 7.6, 'grade':2.6},\n",
    "        {'decimal': 7.5, 'grade':2.5},\n",
    "        {'decimal': 7.4, 'grade':2.4},\n",
    "        {'decimal': 7.3, 'grade':2.3},\n",
    "        {'decimal': 7.2, 'grade':2.2},\n",
    "        {'decimal': 7.1, 'grade':2.1},\n",
    "        {'decimal': 7.0, 'grade':2.0},\n",
    "        {'decimal': 6.9, 'grade':1.9},\n",
    "        {'decimal': 6.8, 'grade':1.8},\n",
    "        {'decimal': 6.7, 'grade':1.7},\n",
    "        {'decimal': 6.6, 'grade':1.6},\n",
    "        {'decimal': 6.5, 'grade':1.5},\n",
    "        {'decimal': 6.4, 'grade':1.4},\n",
    "        {'decimal': 6.3, 'grade':1.3},\n",
    "        {'decimal': 6.2, 'grade':1.2},\n",
    "        {'decimal': 6.1, 'grade':1.1},\n",
    "        {'decimal': 6.0, 'grade':1.0},\n",
    "        {'decimal': 0, 'grade':0}\n",
    "    ]\n",
    ")"
   ]
  },
  {
   "cell_type": "code",
   "execution_count": 100,
   "metadata": {
    "collapsed": false
   },
   "outputs": [
    {
     "name": "stdout",
     "output_type": "stream",
     "text": [
      "GPA: 3.18\n"
     ]
    }
   ],
   "source": [
    "gpa = lambda x: max(conversion.loc[conversion.decimal<x, 'grade'])\n",
    "print('GPA: %.2f'%(sum(df.credits*df.loc[:,'grade'].apply(gpa))/sum(df.credits)))"
   ]
  }
 ],
 "metadata": {
  "kernelspec": {
   "display_name": "Python 3",
   "language": "python",
   "name": "python3"
  },
  "language_info": {
   "codemirror_mode": {
    "name": "ipython",
    "version": 3
   },
   "file_extension": ".py",
   "mimetype": "text/x-python",
   "name": "python",
   "nbconvert_exporter": "python",
   "pygments_lexer": "ipython3",
   "version": "3.6.0"
  }
 },
 "nbformat": 4,
 "nbformat_minor": 2
}
